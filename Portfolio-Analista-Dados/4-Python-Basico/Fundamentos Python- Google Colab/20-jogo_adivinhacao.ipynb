{
 "cells": [
  {
   "cell_type": "code",
   "execution_count": null,
   "metadata": {
    "colab": {
     "base_uri": "https://localhost:8080/",
     "height": 70
    },
    "executionInfo": {
     "elapsed": 591,
     "status": "ok",
     "timestamp": 1674597311135,
     "user": {
      "displayName": "Jehann Câmara Rodrigues",
      "userId": "04137426498920774008"
     },
     "user_tz": 180
    },
    "id": "T4cnx0g8dsAt",
    "outputId": "334d9931-7cbd-4627-a37d-c4c1d4a1e826"
   },
   "outputs": [
    {
     "data": {
      "application/vnd.google.colaboratory.intrinsic+json": {
       "type": "string"
      },
      "text/plain": [
       "'As regras são bastante simples. Vamos a elas:\\n- O jogador deverá escolher um número inteiro qualquer entre 0 e 50;\\n- O jogador receberá dicas se seu chute está acima ou abaixo do valor oculto\\ngerado pelo computador de maneira aleatória, caso não acerte de primeira o\\nnúmero;\\n- O jogador terá 10 tentativas para adivinhar qual foi o número oculto gerado\\npelo computador entre o intervalo (0 a 50).\\n- Informe ao jogador o no de tentativas feitas e quantas tentativas ainda restam\\npara ele.'"
      ]
     },
     "execution_count": 21,
     "metadata": {},
     "output_type": "execute_result"
    }
   ],
   "source": [
    "\n",
    "\n",
    "# Jogo adivinhação\n",
    "# Regras:\n",
    "'''As regras são bastante simples. Vamos a elas:\n",
    "- O jogador deverá escolher um número inteiro qualquer entre 0 e 50;\n",
    "- O jogador receberá dicas se seu chute está acima ou abaixo do valor oculto\n",
    "gerado pelo computador de maneira aleatória, caso não acerte de primeira o\n",
    "número;\n",
    "- O jogador terá 10 tentativas para adivinhar qual foi o número oculto gerado\n",
    "pelo computador entre o intervalo (0 a 50).\n",
    "- Informe ao jogador o número de tentativas feitas e quantas tentativas ainda restam\n",
    "para ele.'''"
   ]
  },
  {
   "cell_type": "code",
   "execution_count": null,
   "metadata": {
    "colab": {
     "base_uri": "https://localhost:8080/"
    },
    "executionInfo": {
     "elapsed": 27759,
     "status": "ok",
     "timestamp": 1674597203259,
     "user": {
      "displayName": "Jehann Câmara Rodrigues",
      "userId": "04137426498920774008"
     },
     "user_tz": 180
    },
    "id": "wriAq8JFdui2",
    "outputId": "03528870-0278-44c2-d523-b2bf4bea69ce"
   },
   "outputs": [
    {
     "name": "stdout",
     "output_type": "stream",
     "text": [
      "Escolha um número entre 0 e 50, você tem 10 tentativas para acertar o número oculto\n",
      "0\n",
      "O número oculto é maior que 0, Tente vovamente, restam: 9 Tentativas!!\n",
      "1\n",
      "O número oculto é maior que 1, Tente vovamente, restam: 8 Tentativas!!\n",
      "2\n",
      "O número oculto é maior que 2, Tente vovamente, restam: 7 Tentativas!!\n",
      "3\n",
      "O número oculto é maior que 3, Tente vovamente, restam: 6 Tentativas!!\n",
      "4\n",
      "O número oculto é maior que 4, Tente vovamente, restam: 5 Tentativas!!\n",
      "5\n",
      "O número oculto é maior que 5, Tente vovamente, restam: 4 Tentativas!!\n",
      "6\n",
      "O número oculto é maior que 6, Tente vovamente, restam: 3 Tentativas!!\n",
      "7\n",
      "O número oculto é maior que 7, Tente vovamente, restam: 2 Tentativas!!\n",
      "8\n",
      "O número oculto é maior que 8, Tente vovamente, restam: 1 Tentativas!!\n",
      "9\n",
      "Tentativas esgotadas, fim de Jogo !!\n"
     ]
    }
   ],
   "source": [
    "# importações de bibliotecas\n",
    "import numpy as np\n",
    "numero_randomico = np.random.default_rng()\n",
    "numero_oculto = numero_randomico.integers(50) # Número randomico entre 0 e 50\n",
    "\n",
    "print(\"Escolha um número entre 0 e 50, você tem 10 tentativas para acertar o número oculto\")\n",
    "tentativas = 10\n",
    "\n",
    "for i in range(10):# 1 ate 10  / Regra = 10 tentativas\n",
    "  x = input()\n",
    "  if (int(x) == numero_oculto):\n",
    "    print(\"Parabéns, você acertou o número oculto que é: \" + str(numero_oculto) + \", Fim de Jogo !\")\n",
    "    break\n",
    "  else:\n",
    "    if (int(x) < numero_oculto):\n",
    "      tentativas -= 1\n",
    "      if (tentativas == 0):\n",
    "        print(\"Tentativas esgotadas, fim de Jogo !!\")\n",
    "      else:\n",
    "        print(\"O número oculto é maior que \" + str(x) + \", Tente vovamente, restam: \" + str(tentativas) + \" Tentativas!!\")\n",
    "    else:\n",
    "      if (int(x) > numero_oculto):\n",
    "        tentativas -= 1\n",
    "        if (tentativas == 0):\n",
    "          print(\"Tentativas esgotadas, fim de Jogo !!\")\n",
    "        else:\n",
    "          print(\"O número oculto é menor que \" + str(x) + \", Tente vovamente, restam: \" +str(tentativas)+ \" Tentativas!!\")\n"
   ]
  },
  {
   "cell_type": "code",
   "execution_count": null,
   "metadata": {
    "colab": {
     "base_uri": "https://localhost:8080/",
     "height": 235
    },
    "executionInfo": {
     "elapsed": 487,
     "status": "error",
     "timestamp": 1674595076079,
     "user": {
      "displayName": "Jehann Câmara Rodrigues",
      "userId": "04137426498920774008"
     },
     "user_tz": 180
    },
    "id": "KcDdole6e8ao",
    "outputId": "764e3d40-e216-40a6-ec7d-c8e95cf2080f"
   },
   "outputs": [
    {
     "ename": "NameError",
     "evalue": "ignored",
     "output_type": "error",
     "traceback": [
      "\u001b[0;31m---------------------------------------------------------------------------\u001b[0m",
      "\u001b[0;31mNameError\u001b[0m                                 Traceback (most recent call last)",
      "\u001b[0;32m<ipython-input-1-173717160b25>\u001b[0m in \u001b[0;36m<module>\u001b[0;34m\u001b[0m\n\u001b[0;32m----> 1\u001b[0;31m \u001b[0mnumero_randomico\u001b[0m \u001b[0;34m=\u001b[0m \u001b[0mnp\u001b[0m\u001b[0;34m.\u001b[0m\u001b[0mrandom\u001b[0m\u001b[0;34m.\u001b[0m\u001b[0mdefault_rng\u001b[0m\u001b[0;34m(\u001b[0m\u001b[0;34m)\u001b[0m\u001b[0;34m\u001b[0m\u001b[0;34m\u001b[0m\u001b[0m\n\u001b[0m\u001b[1;32m      2\u001b[0m \u001b[0mnumero_oculto\u001b[0m \u001b[0;34m=\u001b[0m \u001b[0mnumero_randomico\u001b[0m\u001b[0;34m.\u001b[0m\u001b[0mintegers\u001b[0m\u001b[0;34m(\u001b[0m\u001b[0;36m5\u001b[0m\u001b[0;34m)\u001b[0m\u001b[0;34m\u001b[0m\u001b[0;34m\u001b[0m\u001b[0m\n\u001b[1;32m      3\u001b[0m \u001b[0;34m\u001b[0m\u001b[0m\n\u001b[1;32m      4\u001b[0m \u001b[0mprint\u001b[0m\u001b[0;34m(\u001b[0m\u001b[0;34m\"Escolha um número entre 0 e 50, você tem 10 tentativas para acertar o número oculto\"\u001b[0m\u001b[0;34m)\u001b[0m\u001b[0;34m\u001b[0m\u001b[0;34m\u001b[0m\u001b[0m\n\u001b[1;32m      5\u001b[0m \u001b[0;32mfor\u001b[0m \u001b[0mi\u001b[0m \u001b[0;32min\u001b[0m \u001b[0mrange\u001b[0m\u001b[0;34m(\u001b[0m\u001b[0;36m10\u001b[0m\u001b[0;34m)\u001b[0m\u001b[0;34m:\u001b[0m\u001b[0;31m# 1 ate 10  / Regra = 10 tentativas\u001b[0m\u001b[0;34m\u001b[0m\u001b[0;34m\u001b[0m\u001b[0m\n",
      "\u001b[0;31mNameError\u001b[0m: name 'np' is not defined"
     ]
    }
   ],
   "source": []
  },
  {
   "cell_type": "code",
   "execution_count": null,
   "metadata": {
    "id": "Orq2itmefby9"
   },
   "outputs": [],
   "source": []
  }
 ],
 "metadata": {
  "colab": {
   "authorship_tag": "ABX9TyNUXV4P5s9IcBH59UaTmRcy",
   "provenance": []
  },
  "kernelspec": {
   "display_name": "Python 3",
   "name": "python3"
  },
  "language_info": {
   "name": "python"
  }
 },
 "nbformat": 4,
 "nbformat_minor": 0
}
